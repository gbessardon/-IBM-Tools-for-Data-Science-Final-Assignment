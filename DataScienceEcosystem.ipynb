{
  "nbformat": 4,
  "nbformat_minor": 0,
  "metadata": {
    "colab": {
      "provenance": [],
      "authorship_tag": "ABX9TyOLi+L3cRY52wVs7Ta/bqbQ",
      "include_colab_link": true
    },
    "kernelspec": {
      "name": "python3",
      "display_name": "Python 3"
    },
    "language_info": {
      "name": "python"
    }
  },
  "cells": [
    {
      "cell_type": "markdown",
      "metadata": {
        "id": "view-in-github",
        "colab_type": "text"
      },
      "source": [
        "<a href=\"https://colab.research.google.com/github/gbessardon/-IBM-Tools-for-Data-Science-Final-Assignment/blob/main/DataScienceEcosystem.ipynb\" target=\"_parent\"><img src=\"https://colab.research.google.com/assets/colab-badge.svg\" alt=\"Open In Colab\"/></a>"
      ]
    },
    {
      "cell_type": "markdown",
      "source": [
        "# Data Science Tools and Ecosystem"
      ],
      "metadata": {
        "id": "GrsFyGC_EIsd"
      }
    },
    {
      "cell_type": "markdown",
      "source": [
        "## Author\n",
        "Geoffrey Bessardon"
      ],
      "metadata": {
        "id": "5NPnKCogJT_R"
      }
    },
    {
      "cell_type": "markdown",
      "source": [
        "In this notebook, Data Science Tools and Ecosystem are summarized.\n"
      ],
      "metadata": {
        "id": "d3uRMYmVEcg4"
      }
    },
    {
      "cell_type": "markdown",
      "source": [
        "**Objectives:**\n",
        "\n",
        "\n",
        "*   List popular languages for Data Science\n",
        "*   List commonly used libraries used by data scientists\n",
        "*   Create a table of Data Science tools\n",
        "*   Introduce arithmetic expression examples\n",
        "\n"
      ],
      "metadata": {
        "id": "SjQCmsZGIg1m"
      }
    },
    {
      "cell_type": "markdown",
      "source": [
        "Some of the popular languages that Data Scientists use are:\n",
        "\n",
        "\n",
        "1.   Python\n",
        "2.   R\n",
        "3.   SQL\n",
        "\n"
      ],
      "metadata": {
        "id": "EKwztIHaEgA0"
      }
    },
    {
      "cell_type": "markdown",
      "source": [
        "Some of the commonly used libraries used by Data Scientists include:\n",
        "  1. keras\n",
        "  2. Pytorch\n",
        "  3. Tensorflow\n",
        "  4. sklearn\n",
        "  5. fastAI"
      ],
      "metadata": {
        "id": "RioaK175FMy4"
      }
    },
    {
      "cell_type": "markdown",
      "source": [
        "Data Science Tools |\n",
        "-------------------|\n",
        "Jupyter Lab        |  \n",
        "Jupyter Notebook   |\n",
        "VS Code            |\n",
        "RStudio            |"
      ],
      "metadata": {
        "id": "x8yLBtbDFm3g"
      }
    },
    {
      "cell_type": "markdown",
      "source": [
        "### Below are a few examples of evaluating arithmetic expressions in Python"
      ],
      "metadata": {
        "id": "w32blgj3HIFn"
      }
    },
    {
      "cell_type": "code",
      "source": [
        "# This a simple arithmetic expression to mutiply then add integers\n",
        "(3*4)+5"
      ],
      "metadata": {
        "colab": {
          "base_uri": "https://localhost:8080/"
        },
        "id": "rG2pI3doHS2V",
        "outputId": "810349eb-d19e-4e43-aca6-3689ece039af"
      },
      "execution_count": 2,
      "outputs": [
        {
          "output_type": "execute_result",
          "data": {
            "text/plain": [
              "17"
            ]
          },
          "metadata": {},
          "execution_count": 2
        }
      ]
    },
    {
      "cell_type": "code",
      "source": [
        "# This will convert 200 minutes to hours by diving by 60\n",
        "\n",
        "minutes = 200\n",
        "\n",
        "hours = minutes / 60\n",
        "\n",
        "print(hours)\n"
      ],
      "metadata": {
        "colab": {
          "base_uri": "https://localhost:8080/"
        },
        "id": "PpqjQ52rH8IJ",
        "outputId": "cc338bc2-c5e2-41a7-d73a-130260cc02e2"
      },
      "execution_count": 3,
      "outputs": [
        {
          "output_type": "stream",
          "name": "stdout",
          "text": [
            "3.3333333333333335\n"
          ]
        }
      ]
    }
  ]
}